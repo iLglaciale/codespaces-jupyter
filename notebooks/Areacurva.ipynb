{
 "cells": [
  {
   "cell_type": "markdown",
   "metadata": {},
   "source": [
    "# Area della superficie sotto una curva\n"
   ]
  },
  {
   "cell_type": "code",
   "execution_count": 39,
   "metadata": {},
   "outputs": [],
   "source": [
    "import numpy as np\n"
   ]
  },
  {
   "cell_type": "code",
   "execution_count": 40,
   "metadata": {},
   "outputs": [],
   "source": [
    "def f(x):\n",
    "    return(np.sin(x))"
   ]
  },
  {
   "cell_type": "code",
   "execution_count": 41,
   "metadata": {},
   "outputs": [],
   "source": [
    "def area(x1,x2,dx):\n",
    "    dx=(x2-x1)/dx\n",
    "    A=0\n",
    "    x=x1\n",
    "    while(x<x2-dx):\n",
    "        A=A+(f(x)+f(x+dx))/2*dx\n",
    "        x=x+dx\n",
    "    return(A)"
   ]
  },
  {
   "cell_type": "code",
   "execution_count": 42,
   "metadata": {},
   "outputs": [
    {
     "name": "stdout",
     "output_type": "stream",
     "text": [
      "<function area at 0x7696487d3ce0>\n"
     ]
    }
   ],
   "source": [
    "print(area)\n"
   ]
  },
  {
   "cell_type": "code",
   "execution_count": 43,
   "metadata": {},
   "outputs": [
    {
     "data": {
      "text/plain": [
       "0"
      ]
     },
     "execution_count": 43,
     "metadata": {},
     "output_type": "execute_result"
    }
   ],
   "source": [
    "area(0,np.pi,np.pi/8)"
   ]
  },
  {
   "cell_type": "code",
   "execution_count": 50,
   "metadata": {},
   "outputs": [],
   "source": [
    "def area2(x1,x2,n):\n",
    "    dx=(x2-x1)/n\n",
    "    A=0\n",
    "    A+=f(x1)/2\n",
    "    A+=f(x2)/2\n",
    "    for i in range(n):\n",
    "        A+=f(i*dx)\n",
    "    A=A*dx\n",
    "    return(A)\n",
    "    \n"
   ]
  },
  {
   "cell_type": "code",
   "execution_count": 45,
   "metadata": {},
   "outputs": [
    {
     "name": "stdout",
     "output_type": "stream",
     "text": [
      "0.3508275243213084\n"
     ]
    }
   ],
   "source": [
    "print(area2(0,np.pi,8))"
   ]
  }
 ],
 "metadata": {
  "kernelspec": {
   "display_name": "Python 3",
   "language": "python",
   "name": "python3"
  },
  "language_info": {
   "codemirror_mode": {
    "name": "ipython",
    "version": 3
   },
   "file_extension": ".py",
   "mimetype": "text/x-python",
   "name": "python",
   "nbconvert_exporter": "python",
   "pygments_lexer": "ipython3",
   "version": "3.12.1"
  }
 },
 "nbformat": 4,
 "nbformat_minor": 2
}
