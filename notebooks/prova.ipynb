{
 "cells": [
  {
   "cell_type": "code",
   "execution_count": 22,
   "metadata": {},
   "outputs": [],
   "source": [
    "import math\n",
    "\n",
    "from math import acos as arcos\n",
    "\n",
    "from math import log10 as log\n",
    "\n",
    "from math import log as ln\n",
    "\n",
    "import numpy as np\n",
    "\n",
    "\n",
    "\n"
   ]
  },
  {
   "cell_type": "code",
   "execution_count": 21,
   "metadata": {},
   "outputs": [
    {
     "name": "stdout",
     "output_type": "stream",
     "text": [
      "log(10) = 1.0\n",
      "math.log = ln\n",
      "loge(10) = 2.302585092994046\n",
      "pi greco = 3.141592653589793\n",
      "massa = 5.3 kg\n"
     ]
    }
   ],
   "source": [
    "math.sin(1)\n",
    "\n",
    "print(\"log(10) =\",log(10))\n",
    "\n",
    "print(\"math.log = ln\")\n",
    "\n",
    "print(\"loge(10) =\",ln(10))\n",
    "\n",
    "m=5.3\n",
    "\n",
    "print(\"pi greco =\",math.pi)\n",
    "\n",
    "print(\"massa =\",m,\"kg\")\n"
   ]
  }
 ],
 "metadata": {
  "kernelspec": {
   "display_name": "Python 3",
   "language": "python",
   "name": "python3"
  },
  "language_info": {
   "codemirror_mode": {
    "name": "ipython",
    "version": 3
   },
   "file_extension": ".py",
   "mimetype": "text/x-python",
   "name": "python",
   "nbconvert_exporter": "python",
   "pygments_lexer": "ipython3",
   "version": "3.10.13"
  }
 },
 "nbformat": 4,
 "nbformat_minor": 2
}
